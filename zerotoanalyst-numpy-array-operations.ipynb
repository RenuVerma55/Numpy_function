{
 "cells": [
  {
   "cell_type": "markdown",
   "id": "374cdccb",
   "metadata": {},
   "source": [
    " # 5 Numpy Functions You Didn’t Know You Needed\n",
    "\n",
    "\n",
    "\n",
    "\n"
   ]
  },
  {
   "cell_type": "markdown",
   "id": "2a39b1b4",
   "metadata": {},
   "source": [
    "NumPy (Numerical Python) is an open source Python library that’s used in almost every field of science and engineering. It’s the universal standard for working with numerical data in Python.The NumPy library contains multidimensional array and matrix data structures. It adds powerful data structures to Python that guarantee efficient calculations with arrays and matrices and it supplies an enormous library of high-level mathematical functions that operate on these arrays and matrices.\n",
    "\n",
    "NumPy lets us create multi dimensional arrays and lets us perform simple as well as complex operations like indexing, broadcasting, slicing, matrix multiplication. Today we’ll see how to organize your NumPy arrays better and compute some interesting operations using following functions. The functions are \n",
    "\n",
    "\n",
    "\n",
    "- numpy.sort\n",
    "- numpy.argmax\n",
    "- numpy.where\n",
    "- numpy.count_nonzero\n",
    "- numpy.extract\n",
    "\n",
    "\n",
    "The recommended way to run this notebook is to click the \"Run\" button at the top of this page, and select \"Run on Binder\". This will run the notebook on mybinder.org, a free online service for running Jupyter notebooks."
   ]
  },
  {
   "cell_type": "code",
   "execution_count": 47,
   "id": "f4ea5060",
   "metadata": {},
   "outputs": [],
   "source": [
    "!pip install jovian --upgrade -q"
   ]
  },
  {
   "cell_type": "code",
   "execution_count": 48,
   "id": "5df463fc",
   "metadata": {},
   "outputs": [],
   "source": [
    "import jovian"
   ]
  },
  {
   "cell_type": "code",
   "execution_count": 49,
   "id": "7c47fd92",
   "metadata": {},
   "outputs": [
    {
     "data": {
      "application/javascript": [
       "window.require && require([\"base/js/namespace\"],function(Jupyter){Jupyter.notebook.save_checkpoint()})"
      ],
      "text/plain": [
       "<IPython.core.display.Javascript object>"
      ]
     },
     "metadata": {},
     "output_type": "display_data"
    },
    {
     "name": "stdout",
     "output_type": "stream",
     "text": [
      "[jovian] Updating notebook \"renuverma55/zerotoanalyst-numpy-array-operations\" on https://jovian.ai\u001b[0m\n",
      "[jovian] Committed successfully! https://jovian.ai/renuverma55/zerotoanalyst-numpy-array-operations\u001b[0m\n"
     ]
    },
    {
     "data": {
      "text/plain": [
       "'https://jovian.ai/renuverma55/zerotoanalyst-numpy-array-operations'"
      ]
     },
     "execution_count": 49,
     "metadata": {},
     "output_type": "execute_result"
    }
   ],
   "source": [
    "jovian.commit(project='zerotoanalyst-numpy-array-operations')"
   ]
  },
  {
   "cell_type": "markdown",
   "id": "62961996",
   "metadata": {},
   "source": [
    "Let's begin by importing Numpy and listing out the functions covered in this notebook."
   ]
  },
  {
   "cell_type": "code",
   "execution_count": 50,
   "id": "2b0b7bb2",
   "metadata": {},
   "outputs": [],
   "source": [
    "import numpy as np"
   ]
  },
  {
   "cell_type": "markdown",
   "id": "17a74fd6",
   "metadata": {},
   "source": [
    "## Function 1 - np.sort\n",
    "\n",
    "This function returns a sorted copy of an array.Please note that the original array do not change. \n",
    "The function takes the below parameter.\n",
    "\n",
    "Parameters :\n",
    "\n",
    " - arr : Array to be sorted.\n",
    " - axis : Axis along which we need array to be started.(Optional)\n",
    " - order : This argument specifies which fields to compare first.(Optional)\n",
    " - kind : [‘quicksort’{default}, ‘mergesort’, ‘heapsort’]Sorting algorithm.(Optional)\n"
   ]
  },
  {
   "cell_type": "code",
   "execution_count": 63,
   "id": "7553fb44",
   "metadata": {},
   "outputs": [
    {
     "data": {
      "text/plain": [
       "array([[ 6, 10, 21],\n",
       "       [ 1,  4,  6],\n",
       "       [ 3,  7,  8]])"
      ]
     },
     "execution_count": 63,
     "metadata": {},
     "output_type": "execute_result"
    }
   ],
   "source": [
    "# Example 1 -working .\n",
    "# Lets sort the array along tha last axis\n",
    "arr1 = [[21, 10, 6], \n",
    "        [6, 4, 1],\n",
    "        [7 ,3 ,8 ]]\n",
    "\n",
    "np.sort(arr1)"
   ]
  },
  {
   "cell_type": "markdown",
   "id": "51406f10",
   "metadata": {},
   "source": [
    "Above array is sorted along the last axis. the default value of axis is -1 which sort along the last axis."
   ]
  },
  {
   "cell_type": "code",
   "execution_count": 64,
   "id": "157cd503",
   "metadata": {},
   "outputs": [
    {
     "data": {
      "text/plain": [
       "array([ 1,  3,  4,  6,  6,  7,  8, 10, 21])"
      ]
     },
     "execution_count": 64,
     "metadata": {},
     "output_type": "execute_result"
    }
   ],
   "source": [
    "# Example 2 - working.\n",
    "# Lets flattern the array and sort it.\n",
    "arr1 = [[21, 10, 6], \n",
    "        [6, 4, 1],\n",
    "        [7 ,3 ,8 ]]\n",
    "\n",
    "\n",
    "np.sort(arr1, axis = None)"
   ]
  },
  {
   "cell_type": "markdown",
   "id": "4d097331",
   "metadata": {},
   "source": [
    "As you can see that the array is flattern and sorted."
   ]
  },
  {
   "cell_type": "code",
   "execution_count": 65,
   "id": "62d42f47",
   "metadata": {},
   "outputs": [
    {
     "ename": "AxisError",
     "evalue": "axis 2 is out of bounds for array of dimension 2",
     "output_type": "error",
     "traceback": [
      "\u001b[0;31m---------------------------------------------------------------------------\u001b[0m",
      "\u001b[0;31mAxisError\u001b[0m                                 Traceback (most recent call last)",
      "\u001b[0;32m/tmp/ipykernel_38/2439194348.py\u001b[0m in \u001b[0;36m<module>\u001b[0;34m\u001b[0m\n\u001b[1;32m      4\u001b[0m         [7 ,3 ,8 ]]\n\u001b[1;32m      5\u001b[0m \u001b[0;34m\u001b[0m\u001b[0m\n\u001b[0;32m----> 6\u001b[0;31m \u001b[0mnp\u001b[0m\u001b[0;34m.\u001b[0m\u001b[0msort\u001b[0m\u001b[0;34m(\u001b[0m\u001b[0marr1\u001b[0m\u001b[0;34m,\u001b[0m \u001b[0maxis\u001b[0m\u001b[0;34m=\u001b[0m\u001b[0;36m2\u001b[0m\u001b[0;34m)\u001b[0m\u001b[0;34m\u001b[0m\u001b[0;34m\u001b[0m\u001b[0m\n\u001b[0m",
      "\u001b[0;32m<__array_function__ internals>\u001b[0m in \u001b[0;36msort\u001b[0;34m(*args, **kwargs)\u001b[0m\n",
      "\u001b[0;32m/opt/conda/lib/python3.9/site-packages/numpy/core/fromnumeric.py\u001b[0m in \u001b[0;36msort\u001b[0;34m(a, axis, kind, order)\u001b[0m\n\u001b[1;32m    994\u001b[0m     \u001b[0;32melse\u001b[0m\u001b[0;34m:\u001b[0m\u001b[0;34m\u001b[0m\u001b[0;34m\u001b[0m\u001b[0m\n\u001b[1;32m    995\u001b[0m         \u001b[0ma\u001b[0m \u001b[0;34m=\u001b[0m \u001b[0masanyarray\u001b[0m\u001b[0;34m(\u001b[0m\u001b[0ma\u001b[0m\u001b[0;34m)\u001b[0m\u001b[0;34m.\u001b[0m\u001b[0mcopy\u001b[0m\u001b[0;34m(\u001b[0m\u001b[0morder\u001b[0m\u001b[0;34m=\u001b[0m\u001b[0;34m\"K\"\u001b[0m\u001b[0;34m)\u001b[0m\u001b[0;34m\u001b[0m\u001b[0;34m\u001b[0m\u001b[0m\n\u001b[0;32m--> 996\u001b[0;31m     \u001b[0ma\u001b[0m\u001b[0;34m.\u001b[0m\u001b[0msort\u001b[0m\u001b[0;34m(\u001b[0m\u001b[0maxis\u001b[0m\u001b[0;34m=\u001b[0m\u001b[0maxis\u001b[0m\u001b[0;34m,\u001b[0m \u001b[0mkind\u001b[0m\u001b[0;34m=\u001b[0m\u001b[0mkind\u001b[0m\u001b[0;34m,\u001b[0m \u001b[0morder\u001b[0m\u001b[0;34m=\u001b[0m\u001b[0morder\u001b[0m\u001b[0;34m)\u001b[0m\u001b[0;34m\u001b[0m\u001b[0;34m\u001b[0m\u001b[0m\n\u001b[0m\u001b[1;32m    997\u001b[0m     \u001b[0;32mreturn\u001b[0m \u001b[0ma\u001b[0m\u001b[0;34m\u001b[0m\u001b[0;34m\u001b[0m\u001b[0m\n\u001b[1;32m    998\u001b[0m \u001b[0;34m\u001b[0m\u001b[0m\n",
      "\u001b[0;31mAxisError\u001b[0m: axis 2 is out of bounds for array of dimension 2"
     ]
    }
   ],
   "source": [
    "# Example 3 breaking\n",
    "arr1 = [[21, 10, 6], \n",
    "        [6, 4, 1],\n",
    "        [7 ,3 ,8 ]]\n",
    "\n",
    "np.sort(arr1, axis=2)"
   ]
  },
  {
   "cell_type": "markdown",
   "id": "c35ca0bc",
   "metadata": {},
   "source": [
    "We got an error saying that the specified axis is out of bounds. We had given a 2 dimensional array with axis (0,1). As the third dimension doesn’t exist for the given array, we get the error. To fix this error, make sure the axis you specify is within the bounds of the dimensions of the given array.\n",
    "\n",
    "Use sort() function when you have a collection or an array of random unordered data but the use case requires you to sort the data in organized manner."
   ]
  },
  {
   "cell_type": "code",
   "execution_count": 66,
   "id": "488a810f",
   "metadata": {},
   "outputs": [
    {
     "data": {
      "application/javascript": [
       "window.require && require([\"base/js/namespace\"],function(Jupyter){Jupyter.notebook.save_checkpoint()})"
      ],
      "text/plain": [
       "<IPython.core.display.Javascript object>"
      ]
     },
     "metadata": {},
     "output_type": "display_data"
    },
    {
     "name": "stdout",
     "output_type": "stream",
     "text": [
      "[jovian] Updating notebook \"renuverma55/zerotoanalyst-numpy-array-operations\" on https://jovian.ai\u001b[0m\n",
      "[jovian] Committed successfully! https://jovian.ai/renuverma55/zerotoanalyst-numpy-array-operations\u001b[0m\n"
     ]
    },
    {
     "data": {
      "text/plain": [
       "'https://jovian.ai/renuverma55/zerotoanalyst-numpy-array-operations'"
      ]
     },
     "execution_count": 66,
     "metadata": {},
     "output_type": "execute_result"
    }
   ],
   "source": [
    "jovian.commit()"
   ]
  },
  {
   "cell_type": "markdown",
   "id": "8f05bc69",
   "metadata": {},
   "source": [
    "## Function 2 - numpy.argmax\n",
    "\n",
    "Returns the indices of the maximum values along an axis.The function takes the below parameter.\n",
    "\n",
    "Parameter\n",
    "\n",
    " - arr : Input array\n",
    " - axis : Axis along which we need array to be started.(Optional)\n",
    " - out : If provided, the result will be inserted into this array.(Optional)\n",
    " - keepdims : bool.If this is set to True, the axes which are reduced are left in the result as dimensions with size one. With this option, the result will broadcast correctly against the array.(Optional)"
   ]
  },
  {
   "cell_type": "code",
   "execution_count": 69,
   "id": "119c573a",
   "metadata": {},
   "outputs": [
    {
     "data": {
      "text/plain": [
       "5"
      ]
     },
     "execution_count": 69,
     "metadata": {},
     "output_type": "execute_result"
    }
   ],
   "source": [
    "# Example 1 - working\n",
    "arr2 = [[100, 25, 12],\n",
    "       [13, 15, 160]]\n",
    "np.argmax(arr2)"
   ]
  },
  {
   "cell_type": "markdown",
   "id": "fda46ed1",
   "metadata": {},
   "source": [
    "arr2 has max value at position 5. Hence it showing 5 as argmax output.\n",
    "In case of multiple occurrences of the maximum values, the indices corresponding to the first occurrence are returned."
   ]
  },
  {
   "cell_type": "code",
   "execution_count": 70,
   "id": "1f999050",
   "metadata": {},
   "outputs": [
    {
     "data": {
      "text/plain": [
       "array([0, 1, 1])"
      ]
     },
     "execution_count": 70,
     "metadata": {},
     "output_type": "execute_result"
    }
   ],
   "source": [
    "# Example 2 - working\n",
    "# Get the index of the highest value in a 2-D array \n",
    "arr2 = [[100, 10, 12],\n",
    "       [13, 15, 160]]\n",
    "np.argmax(arr2, axis=0)"
   ]
  },
  {
   "cell_type": "markdown",
   "id": "410cb9a5",
   "metadata": {},
   "source": [
    "Output shows the position of the maximum value along the axis = 0 (column wise)"
   ]
  },
  {
   "cell_type": "code",
   "execution_count": 71,
   "id": "1da80440",
   "metadata": {},
   "outputs": [
    {
     "ename": "AxisError",
     "evalue": "axis 2 is out of bounds for array of dimension 2",
     "output_type": "error",
     "traceback": [
      "\u001b[0;31m---------------------------------------------------------------------------\u001b[0m",
      "\u001b[0;31mAxisError\u001b[0m                                 Traceback (most recent call last)",
      "\u001b[0;32m/tmp/ipykernel_38/2224439719.py\u001b[0m in \u001b[0;36m<module>\u001b[0;34m\u001b[0m\n\u001b[1;32m      3\u001b[0m        \u001b[0;34m[\u001b[0m\u001b[0;36m13\u001b[0m\u001b[0;34m,\u001b[0m \u001b[0;36m150\u001b[0m\u001b[0;34m,\u001b[0m \u001b[0;36m100\u001b[0m\u001b[0;34m]\u001b[0m\u001b[0;34m,\u001b[0m\u001b[0;34m\u001b[0m\u001b[0;34m\u001b[0m\u001b[0m\n\u001b[1;32m      4\u001b[0m        [100, 150, 12]]\n\u001b[0;32m----> 5\u001b[0;31m \u001b[0mnp\u001b[0m\u001b[0;34m.\u001b[0m\u001b[0margmax\u001b[0m\u001b[0;34m(\u001b[0m\u001b[0marr2\u001b[0m\u001b[0;34m,\u001b[0m\u001b[0maxis\u001b[0m \u001b[0;34m=\u001b[0m\u001b[0;36m2\u001b[0m\u001b[0;34m)\u001b[0m\u001b[0;34m\u001b[0m\u001b[0;34m\u001b[0m\u001b[0m\n\u001b[0m",
      "\u001b[0;32m<__array_function__ internals>\u001b[0m in \u001b[0;36margmax\u001b[0;34m(*args, **kwargs)\u001b[0m\n",
      "\u001b[0;32m/opt/conda/lib/python3.9/site-packages/numpy/core/fromnumeric.py\u001b[0m in \u001b[0;36margmax\u001b[0;34m(a, axis, out)\u001b[0m\n\u001b[1;32m   1191\u001b[0m \u001b[0;34m\u001b[0m\u001b[0m\n\u001b[1;32m   1192\u001b[0m     \"\"\"\n\u001b[0;32m-> 1193\u001b[0;31m     \u001b[0;32mreturn\u001b[0m \u001b[0m_wrapfunc\u001b[0m\u001b[0;34m(\u001b[0m\u001b[0ma\u001b[0m\u001b[0;34m,\u001b[0m \u001b[0;34m'argmax'\u001b[0m\u001b[0;34m,\u001b[0m \u001b[0maxis\u001b[0m\u001b[0;34m=\u001b[0m\u001b[0maxis\u001b[0m\u001b[0;34m,\u001b[0m \u001b[0mout\u001b[0m\u001b[0;34m=\u001b[0m\u001b[0mout\u001b[0m\u001b[0;34m)\u001b[0m\u001b[0;34m\u001b[0m\u001b[0;34m\u001b[0m\u001b[0m\n\u001b[0m\u001b[1;32m   1194\u001b[0m \u001b[0;34m\u001b[0m\u001b[0m\n\u001b[1;32m   1195\u001b[0m \u001b[0;34m\u001b[0m\u001b[0m\n",
      "\u001b[0;32m/opt/conda/lib/python3.9/site-packages/numpy/core/fromnumeric.py\u001b[0m in \u001b[0;36m_wrapfunc\u001b[0;34m(obj, method, *args, **kwds)\u001b[0m\n\u001b[1;32m     53\u001b[0m     \u001b[0mbound\u001b[0m \u001b[0;34m=\u001b[0m \u001b[0mgetattr\u001b[0m\u001b[0;34m(\u001b[0m\u001b[0mobj\u001b[0m\u001b[0;34m,\u001b[0m \u001b[0mmethod\u001b[0m\u001b[0;34m,\u001b[0m \u001b[0;32mNone\u001b[0m\u001b[0;34m)\u001b[0m\u001b[0;34m\u001b[0m\u001b[0;34m\u001b[0m\u001b[0m\n\u001b[1;32m     54\u001b[0m     \u001b[0;32mif\u001b[0m \u001b[0mbound\u001b[0m \u001b[0;32mis\u001b[0m \u001b[0;32mNone\u001b[0m\u001b[0;34m:\u001b[0m\u001b[0;34m\u001b[0m\u001b[0;34m\u001b[0m\u001b[0m\n\u001b[0;32m---> 55\u001b[0;31m         \u001b[0;32mreturn\u001b[0m \u001b[0m_wrapit\u001b[0m\u001b[0;34m(\u001b[0m\u001b[0mobj\u001b[0m\u001b[0;34m,\u001b[0m \u001b[0mmethod\u001b[0m\u001b[0;34m,\u001b[0m \u001b[0;34m*\u001b[0m\u001b[0margs\u001b[0m\u001b[0;34m,\u001b[0m \u001b[0;34m**\u001b[0m\u001b[0mkwds\u001b[0m\u001b[0;34m)\u001b[0m\u001b[0;34m\u001b[0m\u001b[0;34m\u001b[0m\u001b[0m\n\u001b[0m\u001b[1;32m     56\u001b[0m \u001b[0;34m\u001b[0m\u001b[0m\n\u001b[1;32m     57\u001b[0m     \u001b[0;32mtry\u001b[0m\u001b[0;34m:\u001b[0m\u001b[0;34m\u001b[0m\u001b[0;34m\u001b[0m\u001b[0m\n",
      "\u001b[0;32m/opt/conda/lib/python3.9/site-packages/numpy/core/fromnumeric.py\u001b[0m in \u001b[0;36m_wrapit\u001b[0;34m(obj, method, *args, **kwds)\u001b[0m\n\u001b[1;32m     42\u001b[0m     \u001b[0;32mexcept\u001b[0m \u001b[0mAttributeError\u001b[0m\u001b[0;34m:\u001b[0m\u001b[0;34m\u001b[0m\u001b[0;34m\u001b[0m\u001b[0m\n\u001b[1;32m     43\u001b[0m         \u001b[0mwrap\u001b[0m \u001b[0;34m=\u001b[0m \u001b[0;32mNone\u001b[0m\u001b[0;34m\u001b[0m\u001b[0;34m\u001b[0m\u001b[0m\n\u001b[0;32m---> 44\u001b[0;31m     \u001b[0mresult\u001b[0m \u001b[0;34m=\u001b[0m \u001b[0mgetattr\u001b[0m\u001b[0;34m(\u001b[0m\u001b[0masarray\u001b[0m\u001b[0;34m(\u001b[0m\u001b[0mobj\u001b[0m\u001b[0;34m)\u001b[0m\u001b[0;34m,\u001b[0m \u001b[0mmethod\u001b[0m\u001b[0;34m)\u001b[0m\u001b[0;34m(\u001b[0m\u001b[0;34m*\u001b[0m\u001b[0margs\u001b[0m\u001b[0;34m,\u001b[0m \u001b[0;34m**\u001b[0m\u001b[0mkwds\u001b[0m\u001b[0;34m)\u001b[0m\u001b[0;34m\u001b[0m\u001b[0;34m\u001b[0m\u001b[0m\n\u001b[0m\u001b[1;32m     45\u001b[0m     \u001b[0;32mif\u001b[0m \u001b[0mwrap\u001b[0m\u001b[0;34m:\u001b[0m\u001b[0;34m\u001b[0m\u001b[0;34m\u001b[0m\u001b[0m\n\u001b[1;32m     46\u001b[0m         \u001b[0;32mif\u001b[0m \u001b[0;32mnot\u001b[0m \u001b[0misinstance\u001b[0m\u001b[0;34m(\u001b[0m\u001b[0mresult\u001b[0m\u001b[0;34m,\u001b[0m \u001b[0mmu\u001b[0m\u001b[0;34m.\u001b[0m\u001b[0mndarray\u001b[0m\u001b[0;34m)\u001b[0m\u001b[0;34m:\u001b[0m\u001b[0;34m\u001b[0m\u001b[0;34m\u001b[0m\u001b[0m\n",
      "\u001b[0;31mAxisError\u001b[0m: axis 2 is out of bounds for array of dimension 2"
     ]
    }
   ],
   "source": [
    "# Example 3 - Breaking\n",
    "arr2 = [[25, 1, 12],\n",
    "       [13, 150, 100],\n",
    "       [100, 150, 12]]\n",
    "np.argmax(arr2,axis =2)"
   ]
  },
  {
   "cell_type": "markdown",
   "id": "f7a2218b",
   "metadata": {},
   "source": [
    "We got an error saying that the specified axis is out of bounds. We had given a 2 dimensional array with axis (0,1). As the third dimension doesn’t exist for the given array, we get the error. To fix this error, make sure the axis you specify is within the bounds of the dimensions of the given array."
   ]
  },
  {
   "cell_type": "markdown",
   "id": "94432ab8",
   "metadata": {},
   "source": [
    "Use np.argmax() function to get the index of the maximum value of a sequence of random variables"
   ]
  },
  {
   "cell_type": "code",
   "execution_count": 12,
   "id": "bbe52f89",
   "metadata": {
    "scrolled": true
   },
   "outputs": [
    {
     "data": {
      "application/javascript": [
       "window.require && require([\"base/js/namespace\"],function(Jupyter){Jupyter.notebook.save_checkpoint()})"
      ],
      "text/plain": [
       "<IPython.core.display.Javascript object>"
      ]
     },
     "metadata": {},
     "output_type": "display_data"
    },
    {
     "name": "stdout",
     "output_type": "stream",
     "text": [
      "[jovian] Attempting to save notebook..\u001b[0m\n",
      "[jovian] Updating notebook \"aakashns/zerotoanalyst-numpy-array-operations\" on https://jovian.ai/\u001b[0m\n",
      "[jovian] Uploading notebook..\u001b[0m\n",
      "[jovian] Capturing environment..\u001b[0m\n",
      "[jovian] Committed successfully! https://jovian.ai/aakashns/zerotoanalyst-numpy-array-operations\u001b[0m\n"
     ]
    },
    {
     "data": {
      "text/plain": [
       "'https://jovian.ai/aakashns/zerotoanalyst-numpy-array-operations'"
      ]
     },
     "execution_count": 12,
     "metadata": {},
     "output_type": "execute_result"
    }
   ],
   "source": [
    "jovian.commit()"
   ]
  },
  {
   "cell_type": "markdown",
   "id": "ae32522c",
   "metadata": {},
   "source": [
    "## Function 3 -  numpy.where\n",
    "\n",
    "The function numpy.where(condition, x,y) return elements chosen from x or y depending on condition.if condition is true return x, if condition is false return y.\n",
    "\n",
    "The function numpy.where(condition) will return the __index position__ of values that fall in a certain condition when the condition alone is provided and value of x and y are not given."
   ]
  },
  {
   "cell_type": "code",
   "execution_count": 11,
   "id": "eb32d3da",
   "metadata": {},
   "outputs": [
    {
     "name": "stdout",
     "output_type": "stream",
     "text": [
      "[0 1 2 3 4 5 6 7 8 9]\n",
      "[ 0  1  2  3  4 50 60 70 80 90]\n"
     ]
    }
   ],
   "source": [
    "# Example 1 - working\n",
    "a = np.arange(10)\n",
    "print(a)\n",
    "arr3= np.where(a < 5, a, 10*a)\n",
    "print(arr3)\n"
   ]
  },
  {
   "cell_type": "markdown",
   "id": "80c0f926",
   "metadata": {},
   "source": [
    "We check for the values that are greater than 10. The values that were greater than 10, were kept as they were. The values that were lesser than 10 were multiplied by 10."
   ]
  },
  {
   "cell_type": "code",
   "execution_count": 12,
   "id": "3cfef132",
   "metadata": {},
   "outputs": [
    {
     "name": "stdout",
     "output_type": "stream",
     "text": [
      "[[ 0  1  2  3  4]\n",
      " [ 5  6  7  8  9]\n",
      " [10 11 12 13 14]\n",
      " [15 16 17 18 19]]\n",
      "(array([3, 3, 3, 3, 3]), array([0, 1, 2, 3, 4]))\n"
     ]
    }
   ],
   "source": [
    "# Example 2 -working\n",
    "# return index of element that satisfied the condition\n",
    "b = np.arange(4*5).reshape(4,5)\n",
    "#Where x is greater than 2, returns index position\n",
    "print(b)\n",
    "print(np.where(b>14))"
   ]
  },
  {
   "cell_type": "markdown",
   "id": "eb99316a",
   "metadata": {},
   "source": [
    "Here the function return index position of the element that satisfied the condition, on this example it returns all element index(row, column) that are greater than 14."
   ]
  },
  {
   "cell_type": "code",
   "execution_count": 14,
   "id": "17c5396e",
   "metadata": {},
   "outputs": [
    {
     "name": "stdout",
     "output_type": "stream",
     "text": [
      "The orginal array is\n",
      "[[[ 1  2]\n",
      "  [ 2  3]]\n",
      "\n",
      " [[ 4  5]\n",
      "  [ 6  7]]\n",
      "\n",
      " [[ 8  9]\n",
      "  [10 11]]]\n"
     ]
    },
    {
     "ename": "ValueError",
     "evalue": "either both or neither of x and y should be given",
     "output_type": "error",
     "traceback": [
      "\u001b[0;31m---------------------------------------------------------------------------\u001b[0m",
      "\u001b[0;31mValueError\u001b[0m                                Traceback (most recent call last)",
      "\u001b[0;32m/tmp/ipykernel_38/532201631.py\u001b[0m in \u001b[0;36m<module>\u001b[0;34m\u001b[0m\n\u001b[1;32m      3\u001b[0m \u001b[0mprint\u001b[0m\u001b[0;34m(\u001b[0m\u001b[0;34m'The orginal array is'\u001b[0m\u001b[0;34m)\u001b[0m\u001b[0;34m\u001b[0m\u001b[0;34m\u001b[0m\u001b[0m\n\u001b[1;32m      4\u001b[0m \u001b[0mprint\u001b[0m\u001b[0;34m(\u001b[0m\u001b[0mx\u001b[0m\u001b[0;34m)\u001b[0m\u001b[0;34m\u001b[0m\u001b[0;34m\u001b[0m\u001b[0m\n\u001b[0;32m----> 5\u001b[0;31m \u001b[0mnp\u001b[0m\u001b[0;34m.\u001b[0m\u001b[0mwhere\u001b[0m\u001b[0;34m(\u001b[0m\u001b[0;34m(\u001b[0m\u001b[0mx\u001b[0m\u001b[0;34m>\u001b[0m\u001b[0;36m3\u001b[0m\u001b[0;34m)\u001b[0m\u001b[0;34m,\u001b[0m\u001b[0mx\u001b[0m\u001b[0;34m)\u001b[0m\u001b[0;34m\u001b[0m\u001b[0;34m\u001b[0m\u001b[0m\n\u001b[0m",
      "\u001b[0;32m<__array_function__ internals>\u001b[0m in \u001b[0;36mwhere\u001b[0;34m(*args, **kwargs)\u001b[0m\n",
      "\u001b[0;31mValueError\u001b[0m: either both or neither of x and y should be given"
     ]
    }
   ],
   "source": [
    "# Example 3 - breaking\n",
    "x=np.array([[[1,2],[2,3]],[[4,5],[6,7]],[[8,9],[10,11]]])\n",
    "print('The orginal array is')\n",
    "print(x)\n",
    "np.where((x>3),x)\n"
   ]
  },
  {
   "cell_type": "markdown",
   "id": "03a5064a",
   "metadata": {},
   "source": [
    "The error is because the third argument is missing. We must provide all three arguments or both second and third arguments should be omitted.\n",
    "\n",
    "The where function is a very good function to know the index of outliers in the data for analysis and to get those outliers. This is a really useful function for conditional problems where there are different operations to be performed for those that satisfy a condition and for those that do not."
   ]
  },
  {
   "cell_type": "code",
   "execution_count": 72,
   "id": "391e57b9",
   "metadata": {},
   "outputs": [
    {
     "data": {
      "application/javascript": [
       "window.require && require([\"base/js/namespace\"],function(Jupyter){Jupyter.notebook.save_checkpoint()})"
      ],
      "text/plain": [
       "<IPython.core.display.Javascript object>"
      ]
     },
     "metadata": {},
     "output_type": "display_data"
    },
    {
     "name": "stdout",
     "output_type": "stream",
     "text": [
      "[jovian] Updating notebook \"renuverma55/zerotoanalyst-numpy-array-operations\" on https://jovian.ai\u001b[0m\n",
      "[jovian] Committed successfully! https://jovian.ai/renuverma55/zerotoanalyst-numpy-array-operations\u001b[0m\n"
     ]
    },
    {
     "data": {
      "text/plain": [
       "'https://jovian.ai/renuverma55/zerotoanalyst-numpy-array-operations'"
      ]
     },
     "execution_count": 72,
     "metadata": {},
     "output_type": "execute_result"
    }
   ],
   "source": [
    "jovian.commit()"
   ]
  },
  {
   "cell_type": "markdown",
   "id": "7cf3f834",
   "metadata": {},
   "source": [
    "## Function 4 - numpy.count_nonzero\n",
    "\n",
    "Counts the number of non-zero values in the array a."
   ]
  },
  {
   "cell_type": "code",
   "execution_count": 73,
   "id": "4ebd6bed",
   "metadata": {},
   "outputs": [
    {
     "name": "stdout",
     "output_type": "stream",
     "text": [
      "There are 4 non zero value in the array\n"
     ]
    }
   ],
   "source": [
    "# Example 1 - working\n",
    "arr4 = np.eye(4)\n",
    "a= np.count_nonzero(arr4)\n",
    "print(\"There are {} non zero value in the array\".format(a))"
   ]
  },
  {
   "cell_type": "markdown",
   "id": "849e1d13",
   "metadata": {},
   "source": [
    "We created an identity matrix which has 4 rows and 3 columns. We then found how many nonzero values are present in the given array."
   ]
  },
  {
   "cell_type": "code",
   "execution_count": 98,
   "id": "9a34e690",
   "metadata": {},
   "outputs": [
    {
     "name": "stdout",
     "output_type": "stream",
     "text": [
      "Nonzero conut on the input array along the axis = 0 is  [2 1 2 1]\n",
      "Nonzero conut on the input array along the axis = 1 is  [3 3]\n"
     ]
    }
   ],
   "source": [
    "# Example 2 - working\n",
    "arr4 =  [[100, 10, 12,0],\n",
    "       [13, 0, 160,6]]\n",
    "count = np.count_nonzero(arr4, axis = 0)\n",
    "print(\"Nonzero conut on the input array along the axis = 0 is \",count)\n",
    "\n",
    "count1 = np.count_nonzero(arr4, axis = 1)\n",
    "print(\"Nonzero conut on the input array along the axis = 1 is \",count1)"
   ]
  },
  {
   "cell_type": "markdown",
   "id": "6a95287e",
   "metadata": {},
   "source": [
    "We can get the count of nonzero array by usig the axis."
   ]
  },
  {
   "cell_type": "code",
   "execution_count": 99,
   "id": "2af539ca",
   "metadata": {},
   "outputs": [
    {
     "ename": "AxisError",
     "evalue": "axis 1 is out of bounds for array of dimension 1",
     "output_type": "error",
     "traceback": [
      "\u001b[0;31m---------------------------------------------------------------------------\u001b[0m",
      "\u001b[0;31mAxisError\u001b[0m                                 Traceback (most recent call last)",
      "\u001b[0;32m/tmp/ipykernel_38/1685578312.py\u001b[0m in \u001b[0;36m<module>\u001b[0;34m\u001b[0m\n\u001b[1;32m      1\u001b[0m \u001b[0;31m# Example 3 - breaking\u001b[0m\u001b[0;34m\u001b[0m\u001b[0;34m\u001b[0m\u001b[0;34m\u001b[0m\u001b[0m\n\u001b[1;32m      2\u001b[0m \u001b[0ma\u001b[0m\u001b[0;34m=\u001b[0m \u001b[0mnp\u001b[0m\u001b[0;34m.\u001b[0m\u001b[0marray\u001b[0m\u001b[0;34m(\u001b[0m\u001b[0;34m[\u001b[0m\u001b[0;36m1\u001b[0m\u001b[0;34m,\u001b[0m\u001b[0;36m2\u001b[0m\u001b[0;34m,\u001b[0m\u001b[0;36m3\u001b[0m\u001b[0;34m,\u001b[0m\u001b[0;36m0\u001b[0m\u001b[0;34m,\u001b[0m\u001b[0;36m3\u001b[0m\u001b[0;34m,\u001b[0m\u001b[0;36m1\u001b[0m\u001b[0;34m,\u001b[0m\u001b[0;36m2\u001b[0m\u001b[0;34m,\u001b[0m\u001b[0;36m3\u001b[0m\u001b[0;34m,\u001b[0m\u001b[0;36m1\u001b[0m\u001b[0;34m,\u001b[0m\u001b[0;36m0\u001b[0m\u001b[0;34m,\u001b[0m\u001b[0;36m0\u001b[0m\u001b[0;34m]\u001b[0m\u001b[0;34m)\u001b[0m\u001b[0;34m\u001b[0m\u001b[0;34m\u001b[0m\u001b[0m\n\u001b[0;32m----> 3\u001b[0;31m \u001b[0ma_nonzero\u001b[0m \u001b[0;34m=\u001b[0m \u001b[0mnp\u001b[0m\u001b[0;34m.\u001b[0m\u001b[0mcount_nonzero\u001b[0m\u001b[0;34m(\u001b[0m\u001b[0ma\u001b[0m\u001b[0;34m,\u001b[0m \u001b[0maxis\u001b[0m \u001b[0;34m=\u001b[0m \u001b[0;36m1\u001b[0m\u001b[0;34m)\u001b[0m \u001b[0;31m#axis out of bounds\u001b[0m\u001b[0;34m\u001b[0m\u001b[0;34m\u001b[0m\u001b[0m\n\u001b[0m\u001b[1;32m      4\u001b[0m \u001b[0ma_nonzero\u001b[0m\u001b[0;34m\u001b[0m\u001b[0;34m\u001b[0m\u001b[0m\n",
      "\u001b[0;32m<__array_function__ internals>\u001b[0m in \u001b[0;36mcount_nonzero\u001b[0;34m(*args, **kwargs)\u001b[0m\n",
      "\u001b[0;32m/opt/conda/lib/python3.9/site-packages/numpy/core/numeric.py\u001b[0m in \u001b[0;36mcount_nonzero\u001b[0;34m(a, axis, keepdims)\u001b[0m\n\u001b[1;32m    493\u001b[0m         \u001b[0ma_bool\u001b[0m \u001b[0;34m=\u001b[0m \u001b[0ma\u001b[0m\u001b[0;34m.\u001b[0m\u001b[0mastype\u001b[0m\u001b[0;34m(\u001b[0m\u001b[0mnp\u001b[0m\u001b[0;34m.\u001b[0m\u001b[0mbool_\u001b[0m\u001b[0;34m,\u001b[0m \u001b[0mcopy\u001b[0m\u001b[0;34m=\u001b[0m\u001b[0;32mFalse\u001b[0m\u001b[0;34m)\u001b[0m\u001b[0;34m\u001b[0m\u001b[0;34m\u001b[0m\u001b[0m\n\u001b[1;32m    494\u001b[0m \u001b[0;34m\u001b[0m\u001b[0m\n\u001b[0;32m--> 495\u001b[0;31m     \u001b[0;32mreturn\u001b[0m \u001b[0ma_bool\u001b[0m\u001b[0;34m.\u001b[0m\u001b[0msum\u001b[0m\u001b[0;34m(\u001b[0m\u001b[0maxis\u001b[0m\u001b[0;34m=\u001b[0m\u001b[0maxis\u001b[0m\u001b[0;34m,\u001b[0m \u001b[0mdtype\u001b[0m\u001b[0;34m=\u001b[0m\u001b[0mnp\u001b[0m\u001b[0;34m.\u001b[0m\u001b[0mintp\u001b[0m\u001b[0;34m,\u001b[0m \u001b[0mkeepdims\u001b[0m\u001b[0;34m=\u001b[0m\u001b[0mkeepdims\u001b[0m\u001b[0;34m)\u001b[0m\u001b[0;34m\u001b[0m\u001b[0;34m\u001b[0m\u001b[0m\n\u001b[0m\u001b[1;32m    496\u001b[0m \u001b[0;34m\u001b[0m\u001b[0m\n\u001b[1;32m    497\u001b[0m \u001b[0;34m\u001b[0m\u001b[0m\n",
      "\u001b[0;32m/opt/conda/lib/python3.9/site-packages/numpy/core/_methods.py\u001b[0m in \u001b[0;36m_sum\u001b[0;34m(a, axis, dtype, out, keepdims, initial, where)\u001b[0m\n\u001b[1;32m     45\u001b[0m def _sum(a, axis=None, dtype=None, out=None, keepdims=False,\n\u001b[1;32m     46\u001b[0m          initial=_NoValue, where=True):\n\u001b[0;32m---> 47\u001b[0;31m     \u001b[0;32mreturn\u001b[0m \u001b[0mumr_sum\u001b[0m\u001b[0;34m(\u001b[0m\u001b[0ma\u001b[0m\u001b[0;34m,\u001b[0m \u001b[0maxis\u001b[0m\u001b[0;34m,\u001b[0m \u001b[0mdtype\u001b[0m\u001b[0;34m,\u001b[0m \u001b[0mout\u001b[0m\u001b[0;34m,\u001b[0m \u001b[0mkeepdims\u001b[0m\u001b[0;34m,\u001b[0m \u001b[0minitial\u001b[0m\u001b[0;34m,\u001b[0m \u001b[0mwhere\u001b[0m\u001b[0;34m)\u001b[0m\u001b[0;34m\u001b[0m\u001b[0;34m\u001b[0m\u001b[0m\n\u001b[0m\u001b[1;32m     48\u001b[0m \u001b[0;34m\u001b[0m\u001b[0m\n\u001b[1;32m     49\u001b[0m def _prod(a, axis=None, dtype=None, out=None, keepdims=False,\n",
      "\u001b[0;31mAxisError\u001b[0m: axis 1 is out of bounds for array of dimension 1"
     ]
    }
   ],
   "source": [
    "# Example 3 - breaking\n",
    "a= np.array([1,2,3,0,3,1,2,3,1,0,0])\n",
    "a_nonzero = np.count_nonzero(a, axis = 1) #axis out of bounds\n",
    "a_nonzero"
   ]
  },
  {
   "cell_type": "markdown",
   "id": "2a21f712",
   "metadata": {},
   "source": [
    "As we can see here, the axis provided is out of bounds. Thus we get an error. We should make sure we provide an axis that is in the range as far as dimensions of the array are concerned."
   ]
  },
  {
   "cell_type": "code",
   "execution_count": 76,
   "id": "bff97b04",
   "metadata": {},
   "outputs": [
    {
     "data": {
      "application/javascript": [
       "window.require && require([\"base/js/namespace\"],function(Jupyter){Jupyter.notebook.save_checkpoint()})"
      ],
      "text/plain": [
       "<IPython.core.display.Javascript object>"
      ]
     },
     "metadata": {},
     "output_type": "display_data"
    },
    {
     "name": "stdout",
     "output_type": "stream",
     "text": [
      "[jovian] Updating notebook \"renuverma55/zerotoanalyst-numpy-array-operations\" on https://jovian.ai\u001b[0m\n",
      "[jovian] Committed successfully! https://jovian.ai/renuverma55/zerotoanalyst-numpy-array-operations\u001b[0m\n"
     ]
    },
    {
     "data": {
      "text/plain": [
       "'https://jovian.ai/renuverma55/zerotoanalyst-numpy-array-operations'"
      ]
     },
     "execution_count": 76,
     "metadata": {},
     "output_type": "execute_result"
    }
   ],
   "source": [
    "jovian.commit()"
   ]
  },
  {
   "cell_type": "markdown",
   "id": "9abf358f",
   "metadata": {},
   "source": [
    "## Function 5 - numpy.extract\n",
    "\n",
    "Return the elements of an array that satisfy some condition.\n",
    "\n",
    "numpy.extract(condition, arr)\n",
    "\n",
    "The numpy.extract function takes two parameter .\n",
    "\n",
    "1. Condition : An array whose nonzero or True entries indicate the elements of arr to extract.\n",
    "2.arr : Input array of the same size as condition.\n",
    "\n",
    "Returns:extract ndarray\n",
    "Rank 1 array of values from arr where condition is True.\n"
   ]
  },
  {
   "cell_type": "code",
   "execution_count": 104,
   "id": "7c88bad8",
   "metadata": {},
   "outputs": [
    {
     "name": "stdout",
     "output_type": "stream",
     "text": [
      "condition [[ True False False  True]\n",
      " [False False  True False]\n",
      " [False  True False False]]\n"
     ]
    },
    {
     "data": {
      "text/plain": [
       "array([0, 3, 6, 9])"
      ]
     },
     "execution_count": 104,
     "metadata": {},
     "output_type": "execute_result"
    }
   ],
   "source": [
    "# Example 1 - working\n",
    "arr5 = [[ 0,  1,  2,  3],\n",
    "       [ 4,  5,  6,  7],\n",
    "       [ 8,  9, 10, 11]]\n",
    "condition = np.mod(arr5, 3)==0\n",
    "print(\"condition\", condition)\n",
    "\n",
    "np.extract(condition, arr5)\n"
   ]
  },
  {
   "cell_type": "markdown",
   "id": "a42e35b0",
   "metadata": {},
   "source": [
    "Output is Rank 1 array of values from arr where condition is True."
   ]
  },
  {
   "cell_type": "code",
   "execution_count": 109,
   "id": "48707386",
   "metadata": {},
   "outputs": [
    {
     "name": "stdout",
     "output_type": "stream",
     "text": [
      "[ 7  8  9 10 11]\n"
     ]
    }
   ],
   "source": [
    "# Example 2 - working\n",
    "a =np.array([[ 0,  1,  2,  3],\n",
    "       [ 4,  5,  6,  7],\n",
    "       [ 8,  9, 10, 11]])\n",
    "b = np.extract(a>6, a)\n",
    "print(b)"
   ]
  },
  {
   "cell_type": "markdown",
   "id": "817afc12",
   "metadata": {},
   "source": [
    "Output is Rank 1 array of values from arr where condition is True."
   ]
  },
  {
   "cell_type": "code",
   "execution_count": 110,
   "id": "d06d2969",
   "metadata": {},
   "outputs": [
    {
     "name": "stdout",
     "output_type": "stream",
     "text": [
      "the original array is [47 95  9 50 28 75 11 38 37 31 45 33 21  3 99  3 52 24 32 34 33 86 94 43\n",
      " 84 32 23 38 14 66 92  9 39 95 92 22 74 54 71 55 35 37 65 70 63 41 65 57\n",
      " 92 81 79 43 10 51 29 78 34  2  0  0 76 29 21 70 67 36 50  9 18 26 41 26\n",
      " 87  3 29 52 18 15 77 70 37 46  2 42 97 20 88 28 52 79 40 53 42 49 22 37\n",
      " 79 14 83 43 12 38 92 14 37  3 74 95 45 18 14 46 95 47 37 86 48 24 15 66\n",
      " 83 37 16 30 17 35 82 60 15 25  9 11 83 95 75 15 92 89  6 38 74 60 40 77\n",
      "  0 27 17 28 90 15]\n",
      "The array divisible by 3 and 5 is [75 45  0  0 15 45 15 30 60 15 75 15 60  0 90 15]\n"
     ]
    }
   ],
   "source": [
    "# Example 3 - working\n",
    "arr5 = np.random.randint(100,size = 150)\n",
    "print(\"the original array is\",arr5)\n",
    "extracted_arr = np.extract((arr5 % 3 == 0) & (arr5 % 5 == 0),arr5)\n",
    "print(\"The array divisible by 3 and 5 is\",extracted_arr )"
   ]
  },
  {
   "cell_type": "markdown",
   "id": "b0b0bea1",
   "metadata": {},
   "source": [
    "We can combine the multiple condition using and operator."
   ]
  },
  {
   "cell_type": "markdown",
   "id": "97c1b0f1",
   "metadata": {},
   "source": [
    "We can use the Numpy extract() function to extract specific elements from an array that matches the condition."
   ]
  },
  {
   "cell_type": "code",
   "execution_count": 80,
   "id": "dbbc143e",
   "metadata": {},
   "outputs": [
    {
     "data": {
      "application/javascript": [
       "window.require && require([\"base/js/namespace\"],function(Jupyter){Jupyter.notebook.save_checkpoint()})"
      ],
      "text/plain": [
       "<IPython.core.display.Javascript object>"
      ]
     },
     "metadata": {},
     "output_type": "display_data"
    },
    {
     "name": "stdout",
     "output_type": "stream",
     "text": [
      "[jovian] Updating notebook \"renuverma55/zerotoanalyst-numpy-array-operations\" on https://jovian.ai\u001b[0m\n",
      "[jovian] Committed successfully! https://jovian.ai/renuverma55/zerotoanalyst-numpy-array-operations\u001b[0m\n"
     ]
    },
    {
     "data": {
      "text/plain": [
       "'https://jovian.ai/renuverma55/zerotoanalyst-numpy-array-operations'"
      ]
     },
     "execution_count": 80,
     "metadata": {},
     "output_type": "execute_result"
    }
   ],
   "source": [
    "jovian.commit()"
   ]
  },
  {
   "cell_type": "markdown",
   "id": "9e28d2c5",
   "metadata": {},
   "source": [
    "## Conclusion\n",
    "We have learnt about these given below functions with examples:-\n",
    "* numpy.sort\n",
    "* numpy.argmax\n",
    "* numpy.where\n",
    "* numpy.count_nonzero\n",
    "* numpy.extract\n",
    "\n",
    "We found out that there are very useful functions that can do a particular job quickly, efficiently and with less code. That’s the power of NumPy library.  "
   ]
  },
  {
   "cell_type": "markdown",
   "id": "4e2ec029",
   "metadata": {},
   "source": [
    "## Reference Links\n",
    "Provide links to your references and other interesting articles about Numpy arrays:\n",
    "* Numpy official tutorial : https://numpy.org/doc/stable/user/quickstart.html\n",
    "* NumPy Documentation: https://numpy.org/doc/stable/reference/index.html"
   ]
  },
  {
   "cell_type": "code",
   "execution_count": 81,
   "id": "457c0dc6",
   "metadata": {},
   "outputs": [
    {
     "data": {
      "application/javascript": [
       "window.require && require([\"base/js/namespace\"],function(Jupyter){Jupyter.notebook.save_checkpoint()})"
      ],
      "text/plain": [
       "<IPython.core.display.Javascript object>"
      ]
     },
     "metadata": {},
     "output_type": "display_data"
    },
    {
     "name": "stdout",
     "output_type": "stream",
     "text": [
      "[jovian] Updating notebook \"renuverma55/zerotoanalyst-numpy-array-operations\" on https://jovian.ai\u001b[0m\n",
      "[jovian] Committed successfully! https://jovian.ai/renuverma55/zerotoanalyst-numpy-array-operations\u001b[0m\n"
     ]
    },
    {
     "data": {
      "text/plain": [
       "'https://jovian.ai/renuverma55/zerotoanalyst-numpy-array-operations'"
      ]
     },
     "execution_count": 81,
     "metadata": {},
     "output_type": "execute_result"
    }
   ],
   "source": [
    "jovian.commit()"
   ]
  }
 ],
 "metadata": {
  "language_info": {
   "codemirror_mode": {
    "name": "ipython",
    "version": 3
   },
   "file_extension": ".py",
   "mimetype": "text/x-python",
   "name": "python",
   "nbconvert_exporter": "python",
   "pygments_lexer": "ipython3",
   "version": "3.9.6"
  }
 },
 "nbformat": 4,
 "nbformat_minor": 5
}